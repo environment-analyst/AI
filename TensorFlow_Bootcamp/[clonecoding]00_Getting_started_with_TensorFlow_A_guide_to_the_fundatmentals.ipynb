{
  "nbformat": 4,
  "nbformat_minor": 0,
  "metadata": {
    "colab": {
      "provenance": []
    },
    "kernelspec": {
      "name": "python3",
      "display_name": "Python 3"
    },
    "language_info": {
      "name": "python"
    }
  },
  "cells": [
    {
      "cell_type": "markdown",
      "source": [
        "  ### What is TensofFlow?\n",
        "\n",
        "  TensorFlow is an open-source end-to-end machine learning libarary for preprocessing data, modelling data and serving models (getting them into the hands of others).\n",
        "\n",
        "\n",
        "  ### Why use TensorFLow?\n",
        "\n",
        "  Rather than building machine learning and deep learning models from scratch, it's more likely you'll use a library such as TensorFlow. This sib ecause it contains many of the most common machine laerning functions you'll want to use\n",
        "\n",
        "  ### What we're goint to conver\n",
        "\n",
        "  TensorFlow is vast. But the main premise is ismple: turn data into numbers (tensors) and build machine learning algorithms to find patterns in them\n",
        "\n",
        "In this notebook we cover some ot the most fundamental TensorFlow opearions, more specificially:\n",
        "- Introduction to tensors (creating tensors)\n",
        "- Getting information from tensors (tensor attributes)\n",
        "- Manipulating tensors (tensor opearations)\n",
        "- Tensors and Numpy\n",
        "- Using @tf.function (a way to speed up your regular Python functions)\n",
        "- Exercises to try\n"
      ],
      "metadata": {
        "id": "BawSVcGKUaHl"
      }
    },
    {
      "cell_type": "code",
      "source": [
        "# crate timestamp\n",
        "import datetime\n",
        "\n",
        "print(f\"Notebook last run (end-to-end) : {datetime.datetime.now()}\")"
      ],
      "metadata": {
        "colab": {
          "base_uri": "https://localhost:8080/"
        },
        "id": "MjwNHO6KVWV-",
        "outputId": "813d5bd7-9c66-4489-b872-5dd4cbd46f24"
      },
      "execution_count": null,
      "outputs": [
        {
          "output_type": "stream",
          "name": "stdout",
          "text": [
            "Notebook last run (end-to-end) : 2025-05-20 11:16:53.189419\n"
          ]
        }
      ]
    },
    {
      "cell_type": "markdown",
      "source": [
        "### Infroduction to Tensors\n",
        "\n",
        "If you've ever used Numpy, tensros are kind of like Numpy arrays ( we';; see more on  this later) <br>\n",
        "for the sake of this notebook and going forward, you can think of a tensos as a multi-dimensinal numberical representation ( also referred to as n-dimensional, where n cna be any number) of something. Where something can be almost anything you can imagine:\n",
        "- It could be numbers themselves ( using tensors to represent the price of houses).\n",
        "- It could be an image ( using tensors to represent the pixels of an image)\n",
        "-It could be text ( using tensors to represent words).\n",
        "- Or it could be some other form of information (or data) you wnat to represnet with numbers.\n",
        "\n",
        "The main difference between tensors and NumPy arrays (also an n-dimensinal array of numbers) is that tensors can ve used on GPUs (grphical processing usnits) and TPUs (tensor processing Units).<br>\n",
        "\n",
        "The benefit of veing able to run on FPUs and TPUs is faster computation, this means, if we wnated to find apatterns in the numerical representations of our data, we can generally find them faster using GPUs and TPUs.<br>\n",
        "\n",
        "\n",
        "\n"
      ],
      "metadata": {
        "id": "uZ7GBemWaT_c"
      }
    },
    {
      "cell_type": "code",
      "source": [
        "# Import TensorFlos\n",
        "import tensorflow as tf\n",
        "print(tf.__version__) # find the version number"
      ],
      "metadata": {
        "colab": {
          "base_uri": "https://localhost:8080/"
        },
        "id": "bjVxExc5cG2V",
        "outputId": "82d37f2d-261b-434c-b16a-f57c06dc42aa"
      },
      "execution_count": null,
      "outputs": [
        {
          "output_type": "stream",
          "name": "stdout",
          "text": [
            "2.18.0\n"
          ]
        }
      ]
    },
    {
      "cell_type": "markdown",
      "source": [
        "### Creating Tensors with tf.constant()\n",
        "\n",
        "As mentioned before, in general, you usually won't created tensors yourself. This is becuase TensorFlos has Modules buil-in (such as tg.io and tf. data) which are able to read your data sources and automatically conver them to tensors and then later on, neural network models will process these for use.\n",
        "<br>\n",
        "\n",
        "But for now, becuase we're getting familar with tensors themselves and yhow to manipulate them, we'll see how we can create them ourselves."
      ],
      "metadata": {
        "id": "4LPZ3ZWScSfC"
      }
    },
    {
      "cell_type": "code",
      "source": [
        "# create a scalar (rank 0 tensor)\n",
        "scalar = tf.constant(7)\n",
        "scalar"
      ],
      "metadata": {
        "colab": {
          "base_uri": "https://localhost:8080/"
        },
        "id": "AremPMRwcxlH",
        "outputId": "174c10bd-4b57-46df-8402-cf81895debb8"
      },
      "execution_count": null,
      "outputs": [
        {
          "output_type": "execute_result",
          "data": {
            "text/plain": [
              "<tf.Tensor: shape=(), dtype=int32, numpy=7>"
            ]
          },
          "metadata": {},
          "execution_count": 7
        }
      ]
    },
    {
      "cell_type": "markdown",
      "source": [
        "A scalar is know as a rank 0 tensor. Becuase it has no dimensions (it's just a number)\n",
        "> **Note** : for now, you don't need to know too much about the different ranks of tensors (but we will wee more on this later). Them important point is knowing tnesors can have an ulimited range of diemsions ( the exact amount will depend on what data you're representing).\n",
        "\n"
      ],
      "metadata": {
        "id": "BOByRD1EdM5K"
      }
    },
    {
      "cell_type": "code",
      "source": [
        "# check the number of dimensions of a tensor ( ndim stands for number of dimenstions)\n",
        "scalar.ndim"
      ],
      "metadata": {
        "colab": {
          "base_uri": "https://localhost:8080/"
        },
        "id": "CWR_9QyPeDI2",
        "outputId": "6f15de76-d7ff-467e-f9ca-9d912eb1dffd"
      },
      "execution_count": null,
      "outputs": [
        {
          "output_type": "execute_result",
          "data": {
            "text/plain": [
              "0"
            ]
          },
          "metadata": {},
          "execution_count": 9
        }
      ]
    },
    {
      "cell_type": "code",
      "source": [
        "# create a vector (more thant 0 dimensions)\n",
        "vector = tf.constant([10,10])\n",
        "vector"
      ],
      "metadata": {
        "colab": {
          "base_uri": "https://localhost:8080/"
        },
        "id": "2wZwDEaQeO3O",
        "outputId": "fda3f2ee-d0cc-43fd-9073-71ef1774f160"
      },
      "execution_count": null,
      "outputs": [
        {
          "output_type": "execute_result",
          "data": {
            "text/plain": [
              "<tf.Tensor: shape=(2,), dtype=int32, numpy=array([10, 10], dtype=int32)>"
            ]
          },
          "metadata": {},
          "execution_count": 10
        }
      ]
    },
    {
      "cell_type": "code",
      "source": [
        "# create a matrix (more than 1 dimension)\n",
        "matrix = tf.constant([[10, 7],\n",
        "                      [7,10]])\n",
        "matrix"
      ],
      "metadata": {
        "id": "zhTH3SJJeZ5H",
        "colab": {
          "base_uri": "https://localhost:8080/"
        },
        "outputId": "f09e6050-fcd1-4edd-cfce-e71dfb5cbff9"
      },
      "execution_count": 11,
      "outputs": [
        {
          "output_type": "execute_result",
          "data": {
            "text/plain": [
              "<tf.Tensor: shape=(2, 2), dtype=int32, numpy=\n",
              "array([[10,  7],\n",
              "       [ 7, 10]], dtype=int32)>"
            ]
          },
          "metadata": {},
          "execution_count": 11
        }
      ]
    },
    {
      "cell_type": "code",
      "source": [
        "matrix.ndim"
      ],
      "metadata": {
        "colab": {
          "base_uri": "https://localhost:8080/"
        },
        "id": "faPIVjSGe704",
        "outputId": "03d1bb5e-0b4f-4fd5-8203-6cc6309d9670"
      },
      "execution_count": 12,
      "outputs": [
        {
          "output_type": "execute_result",
          "data": {
            "text/plain": [
              "2"
            ]
          },
          "metadata": {},
          "execution_count": 12
        }
      ]
    },
    {
      "cell_type": "markdown",
      "source": [
        "By default, TensorFlow creates tensors with either and int32 of float32 datatype.<br>\n",
        "This is known as 32-bit precisiion (the higher the number, the more precise the nubmer, the more space it takes up on your computer)\n"
      ],
      "metadata": {
        "id": "hocMPWRie93V"
      }
    },
    {
      "cell_type": "code",
      "source": [
        "# Create another matrix and detatype\n",
        "another_matrix = tf.constant([[10., 7.],\n",
        "                              [3.,2.],\n",
        "                              [8., 9.]], dtype=tf.float16) # specify the data type with 'dtype'\n",
        "another_matrix"
      ],
      "metadata": {
        "colab": {
          "base_uri": "https://localhost:8080/"
        },
        "id": "juvDPqW0fUUw",
        "outputId": "46397d26-d508-467c-b341-5780266191fb"
      },
      "execution_count": 13,
      "outputs": [
        {
          "output_type": "execute_result",
          "data": {
            "text/plain": [
              "<tf.Tensor: shape=(3, 2), dtype=float16, numpy=\n",
              "array([[10.,  7.],\n",
              "       [ 3.,  2.],\n",
              "       [ 8.,  9.]], dtype=float16)>"
            ]
          },
          "metadata": {},
          "execution_count": 13
        }
      ]
    },
    {
      "cell_type": "code",
      "source": [
        "# Even though another_matrix contains more numbers, its dimensions stay the same\n",
        "another_matrix.ndim"
      ],
      "metadata": {
        "colab": {
          "base_uri": "https://localhost:8080/"
        },
        "id": "nd-NRJHJgClG",
        "outputId": "032d8051-081a-4328-f078-bf6456d80a47"
      },
      "execution_count": 15,
      "outputs": [
        {
          "output_type": "execute_result",
          "data": {
            "text/plain": [
              "2"
            ]
          },
          "metadata": {},
          "execution_count": 15
        }
      ]
    },
    {
      "cell_type": "code",
      "source": [
        "# How about a tensor? (more than 2 dimesions, alothough, all of the above items are also technically tensors)\n",
        "tensor = tf.constant([[[1,2,3],\n",
        "                       [4,5,6]],\n",
        "                      [[7,8,9],\n",
        "                       [10,11,12]],\n",
        "                      [[13,14,15],\n",
        "                       [16,17,18]]])\n",
        "tensor"
      ],
      "metadata": {
        "colab": {
          "base_uri": "https://localhost:8080/"
        },
        "id": "aF5B1rDfgPY3",
        "outputId": "712ae10b-b2db-4717-fa02-bef74ec47515"
      },
      "execution_count": 22,
      "outputs": [
        {
          "output_type": "execute_result",
          "data": {
            "text/plain": [
              "<tf.Tensor: shape=(3, 2, 3), dtype=int32, numpy=\n",
              "array([[[ 1,  2,  3],\n",
              "        [ 4,  5,  6]],\n",
              "\n",
              "       [[ 7,  8,  9],\n",
              "        [10, 11, 12]],\n",
              "\n",
              "       [[13, 14, 15],\n",
              "        [16, 17, 18]]], dtype=int32)>"
            ]
          },
          "metadata": {},
          "execution_count": 22
        }
      ]
    },
    {
      "cell_type": "code",
      "source": [
        "tensor.ndim"
      ],
      "metadata": {
        "colab": {
          "base_uri": "https://localhost:8080/"
        },
        "id": "wBqCkmtghtKi",
        "outputId": "d3003ce6-bb69-4985-8c3e-b18524c4b538"
      },
      "execution_count": 24,
      "outputs": [
        {
          "output_type": "execute_result",
          "data": {
            "text/plain": [
              "3"
            ]
          },
          "metadata": {},
          "execution_count": 24
        }
      ]
    },
    {
      "cell_type": "markdown",
      "source": [
        "This is know as a rank 3 tensor (3-dimensions), however a tensor can have an arbitrary (unlimited) amount of dimensions.<br>\n",
        "For example, you might turn a series of images into tensors with shape (224, 224, 3,32), where :\n",
        "- 224, 224 ( the first 2 dimensions) are the height and width of the images in pixels.\n",
        "- 3 is the number of colour channels of the image (red, green, blue).\n",
        "- 32 is the batch size ( the number of images a neural network sees at any one tiem).\n",
        "\n",
        "All ot the above variables we've created are actually tensors. But you may also hear them referred to as their different names (the ones we gave them)\n",
        "<br>\n",
        "<br>\n",
        "- scalar : a single number.\n",
        "- vector : a number with direction (e.g. wind speed with direction).\n",
        "- matrix : a 2-dimensional array of numbers.\n",
        "-tensor: an n-dimensional array of numbers ( where n can be any number, a 0-dimension tensor is a scalar, a 1-dimension tensor is a vector).\n",
        "\n"
      ],
      "metadata": {
        "id": "bsWpUacrhu8r"
      }
    },
    {
      "cell_type": "markdown",
      "source": [
        "###  Creating Tensors with tf.Variable()\n",
        "\n",
        "You acan also (altough you likely rarely will, becuase often, when working with data, tensors are created for you automatically) create tensors using ```tf.Variable()```.<br>\n",
        "The difference between tf.Variable() and tf.constant() is tensors create with tf.constant() are immutable (can't be chanbed, can only be used to create a new tensor), where as, tensors with tf.variable() are mutable (can be changed)."
      ],
      "metadata": {
        "id": "3jVgIPtojeCG"
      }
    },
    {
      "cell_type": "code",
      "source": [
        "# Create the same tenso with tf.Variable() and tf.constant()\n",
        "changeable_tensor = tf.Variable([10, 7])\n",
        "unchangeable_tensor = tf.constant([10, 7])\n",
        "changeable_tensor, unchangeable_tensor"
      ],
      "metadata": {
        "colab": {
          "base_uri": "https://localhost:8080/"
        },
        "id": "N3ZqxyhKmAi_",
        "outputId": "d50680e8-3801-43ee-d740-77da35358405"
      },
      "execution_count": 28,
      "outputs": [
        {
          "output_type": "execute_result",
          "data": {
            "text/plain": [
              "(<tf.Variable 'Variable:0' shape=(2,) dtype=int32, numpy=array([10,  7], dtype=int32)>,\n",
              " <tf.Tensor: shape=(2,), dtype=int32, numpy=array([10,  7], dtype=int32)>)"
            ]
          },
          "metadata": {},
          "execution_count": 28
        }
      ]
    },
    {
      "cell_type": "code",
      "source": [
        "# will error ( requires the .assign() method)\n",
        "changeable_tensor[0] = 7\n",
        "changeable_tensor"
      ],
      "metadata": {
        "colab": {
          "base_uri": "https://localhost:8080/",
          "height": 180
        },
        "id": "bKBMy8_Om8Lv",
        "outputId": "8ccdeb2c-1223-4f5b-c2fe-1b880785646a"
      },
      "execution_count": 30,
      "outputs": [
        {
          "output_type": "error",
          "ename": "TypeError",
          "evalue": "'ResourceVariable' object does not support item assignment",
          "traceback": [
            "\u001b[0;31m---------------------------------------------------------------------------\u001b[0m",
            "\u001b[0;31mTypeError\u001b[0m                                 Traceback (most recent call last)",
            "\u001b[0;32m<ipython-input-30-c5838761b8c6>\u001b[0m in \u001b[0;36m<cell line: 0>\u001b[0;34m()\u001b[0m\n\u001b[1;32m      1\u001b[0m \u001b[0;31m# will error ( requires the .assign() method)\u001b[0m\u001b[0;34m\u001b[0m\u001b[0;34m\u001b[0m\u001b[0m\n\u001b[0;32m----> 2\u001b[0;31m \u001b[0mchangeable_tensor\u001b[0m\u001b[0;34m[\u001b[0m\u001b[0;36m0\u001b[0m\u001b[0;34m]\u001b[0m \u001b[0;34m=\u001b[0m \u001b[0;36m7\u001b[0m\u001b[0;34m\u001b[0m\u001b[0;34m\u001b[0m\u001b[0m\n\u001b[0m\u001b[1;32m      3\u001b[0m \u001b[0mchangeable_tensor\u001b[0m\u001b[0;34m\u001b[0m\u001b[0;34m\u001b[0m\u001b[0m\n",
            "\u001b[0;31mTypeError\u001b[0m: 'ResourceVariable' object does not support item assignment"
          ]
        }
      ]
    },
    {
      "cell_type": "markdown",
      "source": [
        "To chage an elementof a tf.Vatiable() tensors requires the assign() method."
      ],
      "metadata": {
        "id": "q1TA6aQJnOwf"
      }
    },
    {
      "cell_type": "code",
      "source": [
        "# won't error\n",
        "changeable_tensor[0].assign(7)\n",
        "changeable_tensor"
      ],
      "metadata": {
        "colab": {
          "base_uri": "https://localhost:8080/"
        },
        "id": "LdRc9Ei4na-8",
        "outputId": "960f1fe6-0d2c-402c-ffff-c4c604d4a1a8"
      },
      "execution_count": 33,
      "outputs": [
        {
          "output_type": "execute_result",
          "data": {
            "text/plain": [
              "<tf.Variable 'Variable:0' shape=(2,) dtype=int32, numpy=array([7, 7], dtype=int32)>"
            ]
          },
          "metadata": {},
          "execution_count": 33
        }
      ]
    },
    {
      "cell_type": "code",
      "source": [
        "# will error (can't chage tf. constat())\n",
        "unchangeable_tensor[0].assign(7)\n",
        "unchangeable_tensor"
      ],
      "metadata": {
        "colab": {
          "base_uri": "https://localhost:8080/",
          "height": 305
        },
        "id": "m4jgIMuYny8G",
        "outputId": "f573d17a-8f9f-4e5e-d6b8-4f90a22bb865"
      },
      "execution_count": 36,
      "outputs": [
        {
          "output_type": "error",
          "ename": "AttributeError",
          "evalue": "'tensorflow.python.framework.ops.EagerTensor' object has no attribute 'assign'",
          "traceback": [
            "\u001b[0;31m---------------------------------------------------------------------------\u001b[0m",
            "\u001b[0;31mAttributeError\u001b[0m                            Traceback (most recent call last)",
            "\u001b[0;32m<ipython-input-36-d099cfb0b80e>\u001b[0m in \u001b[0;36m<cell line: 0>\u001b[0;34m()\u001b[0m\n\u001b[1;32m      1\u001b[0m \u001b[0;31m# will error (can't chage tf. constat())\u001b[0m\u001b[0;34m\u001b[0m\u001b[0;34m\u001b[0m\u001b[0m\n\u001b[0;32m----> 2\u001b[0;31m \u001b[0munchangeable_tensor\u001b[0m\u001b[0;34m[\u001b[0m\u001b[0;36m0\u001b[0m\u001b[0;34m]\u001b[0m\u001b[0;34m.\u001b[0m\u001b[0massign\u001b[0m\u001b[0;34m(\u001b[0m\u001b[0;36m7\u001b[0m\u001b[0;34m)\u001b[0m\u001b[0;34m\u001b[0m\u001b[0;34m\u001b[0m\u001b[0m\n\u001b[0m\u001b[1;32m      3\u001b[0m \u001b[0munchangeable_tensor\u001b[0m\u001b[0;34m\u001b[0m\u001b[0;34m\u001b[0m\u001b[0m\n",
            "\u001b[0;32m/usr/local/lib/python3.11/dist-packages/tensorflow/python/framework/tensor.py\u001b[0m in \u001b[0;36m__getattr__\u001b[0;34m(self, name)\u001b[0m\n\u001b[1;32m    258\u001b[0m         \u001b[0mtf\u001b[0m\u001b[0;34m.\u001b[0m\u001b[0mexperimental\u001b[0m\u001b[0;34m.\u001b[0m\u001b[0mnumpy\u001b[0m\u001b[0;34m.\u001b[0m\u001b[0mexperimental_enable_numpy_behavior\u001b[0m\u001b[0;34m(\u001b[0m\u001b[0;34m)\u001b[0m\u001b[0;34m\u001b[0m\u001b[0;34m\u001b[0m\u001b[0m\n\u001b[1;32m    259\u001b[0m       \"\"\")\n\u001b[0;32m--> 260\u001b[0;31m     \u001b[0mself\u001b[0m\u001b[0;34m.\u001b[0m\u001b[0m__getattribute__\u001b[0m\u001b[0;34m(\u001b[0m\u001b[0mname\u001b[0m\u001b[0;34m)\u001b[0m\u001b[0;34m\u001b[0m\u001b[0;34m\u001b[0m\u001b[0m\n\u001b[0m\u001b[1;32m    261\u001b[0m \u001b[0;34m\u001b[0m\u001b[0m\n\u001b[1;32m    262\u001b[0m   \u001b[0;34m@\u001b[0m\u001b[0mproperty\u001b[0m\u001b[0;34m\u001b[0m\u001b[0;34m\u001b[0m\u001b[0m\n",
            "\u001b[0;31mAttributeError\u001b[0m: 'tensorflow.python.framework.ops.EagerTensor' object has no attribute 'assign'"
          ]
        }
      ]
    },
    {
      "cell_type": "markdown",
      "source": [
        "Which one should you use?<br>\n",
        "```tf.constant()``` or ```tf.Variable()```\n",
        "It will depend on what your problem requires. However, most of the time, TensorFlow will automatically choose for you (when loading data or modelling data)."
      ],
      "metadata": {
        "id": "F9KhQ1oan-Z7"
      }
    },
    {
      "cell_type": "code",
      "source": [],
      "metadata": {
        "id": "ZLUxsSPPoNCJ"
      },
      "execution_count": null,
      "outputs": []
    }
  ]
}