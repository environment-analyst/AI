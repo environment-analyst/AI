{
  "nbformat": 4,
  "nbformat_minor": 0,
  "metadata": {
    "colab": {
      "provenance": [],
      "gpuType": "T4"
    },
    "kernelspec": {
      "name": "python3",
      "display_name": "Python 3"
    },
    "language_info": {
      "name": "python"
    },
    "accelerator": "GPU"
  },
  "cells": [
    {
      "cell_type": "markdown",
      "source": [
        "# 04. Transter Learning with TensorFlow Part 1: Feature Extraction\n",
        "\n",
        "이 장에서 중요하게 다루는 개념들.\n",
        "\n",
        "1. 전이 학습\n",
        "- 정의\n",
        "    - 다른 모델의 패턴을 가져와서 이용하는 것\n",
        "- 장점.\n",
        "    - 현존하는 신경망 구조로 비슷한 문제를 해결할 수 있음\n",
        "\n",
        "2. callbacks\n",
        "- **TensorBoard를 활용한 실험 추적(Experiment tracking)**\n",
        "    - 여러 모델의 성능을 기록하고 이를 TensorBoard(신경망 파라미터를 시각적으로 확인할 수 있는 대시보드)에서 비교 및 시각함\n",
        "    - 다양한 모델이 같은 데이터에서 어떻게 작동하는지 비교할 때 유용\n",
        "\n",
        "- **모델 체크포인트 저장(Model checkpointing)**\n",
        "    - 훈련 중간중간 모델을 저장할 수 있어서, 훈련을 중단했다가 다시 이어서 진행할 수 있음\n",
        "    - 훈련 시간이 오래 걸리는 경우 유용\n",
        "\n",
        "- **얼리 스토핑(Early stopping)**\n",
        "    - 일정 시간 동안 모델을 훈련시킨 뒤, 성능 향상이 없으면 자동으로 훈련을 멈춥니다.\n",
        "    - 데이터셋이 크고 훈련 시간이 얼마나 걸릴지 모를 때 유용합니다."
      ],
      "metadata": {
        "id": "E8n5ZXWQJNqj"
      }
    },
    {
      "cell_type": "markdown",
      "source": [
        "## What we're going to cover\n",
        "\n",
        "1. Introduce transfer learning (a way to beat all of our old self-built models)\n",
        "2. Using a smaller dataset to experiment faster (10% of training samples of 10 classes of food)\n",
        "3. Build a transfer learning feature extraction model using TensorFlow Hub\n",
        "4. Introduce the TensorBoard callback to track model training results\n",
        "5. Compare model results using TensorBoard"
      ],
      "metadata": {
        "id": "mrHS2zJAKY76"
      }
    },
    {
      "cell_type": "code",
      "source": [
        "# Add tiemstamp\n",
        "import datetime\n",
        "print(f\"Notebook last run (end-to-end) : {datetime.datetime.now()}\")"
      ],
      "metadata": {
        "colab": {
          "base_uri": "https://localhost:8080/"
        },
        "id": "FVVPzlAxKy8T",
        "outputId": "9b031975-7ae2-4860-ad80-70887ed4d8ee"
      },
      "execution_count": 3,
      "outputs": [
        {
          "output_type": "stream",
          "name": "stdout",
          "text": [
            "Notebook last run (end-to-end) : 2025-05-31 12:15:45.450222\n"
          ]
        }
      ]
    },
    {
      "cell_type": "code",
      "source": [
        "# Are we using a GPU?\n",
        "!nvidia-smi"
      ],
      "metadata": {
        "colab": {
          "base_uri": "https://localhost:8080/"
        },
        "id": "2Oc2LnuBLACj",
        "outputId": "864d6370-f798-4749-b7a5-9fa08fe1acd0"
      },
      "execution_count": 4,
      "outputs": [
        {
          "output_type": "stream",
          "name": "stdout",
          "text": [
            "Sat May 31 12:15:45 2025       \n",
            "+-----------------------------------------------------------------------------------------+\n",
            "| NVIDIA-SMI 550.54.15              Driver Version: 550.54.15      CUDA Version: 12.4     |\n",
            "|-----------------------------------------+------------------------+----------------------+\n",
            "| GPU  Name                 Persistence-M | Bus-Id          Disp.A | Volatile Uncorr. ECC |\n",
            "| Fan  Temp   Perf          Pwr:Usage/Cap |           Memory-Usage | GPU-Util  Compute M. |\n",
            "|                                         |                        |               MIG M. |\n",
            "|=========================================+========================+======================|\n",
            "|   0  Tesla T4                       Off |   00000000:00:04.0 Off |                    0 |\n",
            "| N/A   42C    P8              9W /   70W |       0MiB /  15360MiB |      0%      Default |\n",
            "|                                         |                        |                  N/A |\n",
            "+-----------------------------------------+------------------------+----------------------+\n",
            "                                                                                         \n",
            "+-----------------------------------------------------------------------------------------+\n",
            "| Processes:                                                                              |\n",
            "|  GPU   GI   CI        PID   Type   Process name                              GPU Memory |\n",
            "|        ID   ID                                                               Usage      |\n",
            "|=========================================================================================|\n",
            "|  No running processes found                                                             |\n",
            "+-----------------------------------------------------------------------------------------+\n"
          ]
        }
      ]
    },
    {
      "cell_type": "markdown",
      "source": [
        "## Downloading and becoming one with the data"
      ],
      "metadata": {
        "id": "uXiMzN7kLJb4"
      }
    },
    {
      "cell_type": "code",
      "source": [
        "# Get data (10% of labels)\n",
        "import zipfile\n",
        "\n",
        "#Download data\n",
        "!wget  https://storage.googleapis.com/ztm_tf_course/food_vision/10_food_classes_10_percent.zip\n",
        "\n",
        "# Unaip the downloaded file\n",
        "zip_ref = zipfile.ZipFile(\"10_food_classes_10_percent.zip\", \"r\")\n",
        "zip_ref.extractall()\n",
        "zip_ref.close()"
      ],
      "metadata": {
        "colab": {
          "base_uri": "https://localhost:8080/"
        },
        "id": "TvSohk2lL1vH",
        "outputId": "8f0765cf-b743-43e6-a72c-1c53dccb1795"
      },
      "execution_count": 5,
      "outputs": [
        {
          "output_type": "stream",
          "name": "stdout",
          "text": [
            "--2025-05-31 12:15:47--  https://storage.googleapis.com/ztm_tf_course/food_vision/10_food_classes_10_percent.zip\n",
            "Resolving storage.googleapis.com (storage.googleapis.com)... 74.125.195.207, 74.125.20.207, 108.177.98.207, ...\n",
            "Connecting to storage.googleapis.com (storage.googleapis.com)|74.125.195.207|:443... connected.\n",
            "HTTP request sent, awaiting response... 200 OK\n",
            "Length: 168546183 (161M) [application/zip]\n",
            "Saving to: ‘10_food_classes_10_percent.zip.11’\n",
            "\n",
            "10_food_classes_10_ 100%[===================>] 160.74M   272MB/s    in 0.6s    \n",
            "\n",
            "2025-05-31 12:15:47 (272 MB/s) - ‘10_food_classes_10_percent.zip.11’ saved [168546183/168546183]\n",
            "\n"
          ]
        }
      ]
    },
    {
      "cell_type": "code",
      "source": [
        "# How many images in each folder?\n",
        "import os\n",
        "\n",
        "# Walk though 10 percent data directory and list number of files\n",
        "for dirpath, dirnames, filenames in os.walk(\"10_food_classes_10_percent\"):\n",
        "    print(f\"There are {len(dirnames)} directories and {len(filenames)} images in '{dirpath}.\")"
      ],
      "metadata": {
        "id": "selVyLNWMNLf",
        "colab": {
          "base_uri": "https://localhost:8080/"
        },
        "outputId": "4d9e6827-0ae8-447e-9bc9-97afacd97964"
      },
      "execution_count": 6,
      "outputs": [
        {
          "output_type": "stream",
          "name": "stdout",
          "text": [
            "There are 2 directories and 0 images in '10_food_classes_10_percent.\n",
            "There are 10 directories and 0 images in '10_food_classes_10_percent/train.\n",
            "There are 0 directories and 75 images in '10_food_classes_10_percent/train/fried_rice.\n",
            "There are 0 directories and 75 images in '10_food_classes_10_percent/train/steak.\n",
            "There are 0 directories and 75 images in '10_food_classes_10_percent/train/chicken_wings.\n",
            "There are 0 directories and 75 images in '10_food_classes_10_percent/train/ice_cream.\n",
            "There are 0 directories and 75 images in '10_food_classes_10_percent/train/sushi.\n",
            "There are 0 directories and 75 images in '10_food_classes_10_percent/train/grilled_salmon.\n",
            "There are 0 directories and 75 images in '10_food_classes_10_percent/train/hamburger.\n",
            "There are 0 directories and 75 images in '10_food_classes_10_percent/train/chicken_curry.\n",
            "There are 0 directories and 75 images in '10_food_classes_10_percent/train/pizza.\n",
            "There are 0 directories and 75 images in '10_food_classes_10_percent/train/ramen.\n",
            "There are 10 directories and 0 images in '10_food_classes_10_percent/test.\n",
            "There are 0 directories and 250 images in '10_food_classes_10_percent/test/fried_rice.\n",
            "There are 0 directories and 250 images in '10_food_classes_10_percent/test/steak.\n",
            "There are 0 directories and 250 images in '10_food_classes_10_percent/test/chicken_wings.\n",
            "There are 0 directories and 250 images in '10_food_classes_10_percent/test/ice_cream.\n",
            "There are 0 directories and 250 images in '10_food_classes_10_percent/test/sushi.\n",
            "There are 0 directories and 250 images in '10_food_classes_10_percent/test/grilled_salmon.\n",
            "There are 0 directories and 250 images in '10_food_classes_10_percent/test/hamburger.\n",
            "There are 0 directories and 250 images in '10_food_classes_10_percent/test/chicken_curry.\n",
            "There are 0 directories and 250 images in '10_food_classes_10_percent/test/pizza.\n",
            "There are 0 directories and 250 images in '10_food_classes_10_percent/test/ramen.\n"
          ]
        }
      ]
    },
    {
      "cell_type": "code",
      "source": [
        "# Install TensorFlow and TensorFlow Hub to ensure compatibility\n",
        "!pip install tensorflow==2.15.0 tensorflow-hub keras==2.15.0"
      ],
      "metadata": {
        "colab": {
          "base_uri": "https://localhost:8080/"
        },
        "id": "r96-Z40ghFgH",
        "outputId": "2b1f8d51-b9cd-4037-e3f4-be3cfe733d35"
      },
      "execution_count": 7,
      "outputs": [
        {
          "output_type": "stream",
          "name": "stdout",
          "text": [
            "Requirement already satisfied: tensorflow==2.15.0 in /usr/local/lib/python3.11/dist-packages (2.15.0)\n",
            "Requirement already satisfied: tensorflow-hub in /usr/local/lib/python3.11/dist-packages (0.16.1)\n",
            "Requirement already satisfied: keras==2.15.0 in /usr/local/lib/python3.11/dist-packages (2.15.0)\n",
            "Requirement already satisfied: absl-py>=1.0.0 in /usr/local/lib/python3.11/dist-packages (from tensorflow==2.15.0) (2.3.0)\n",
            "Requirement already satisfied: astunparse>=1.6.0 in /usr/local/lib/python3.11/dist-packages (from tensorflow==2.15.0) (1.6.3)\n",
            "Requirement already satisfied: flatbuffers>=23.5.26 in /usr/local/lib/python3.11/dist-packages (from tensorflow==2.15.0) (25.2.10)\n",
            "Requirement already satisfied: gast!=0.5.0,!=0.5.1,!=0.5.2,>=0.2.1 in /usr/local/lib/python3.11/dist-packages (from tensorflow==2.15.0) (0.6.0)\n",
            "Requirement already satisfied: google-pasta>=0.1.1 in /usr/local/lib/python3.11/dist-packages (from tensorflow==2.15.0) (0.2.0)\n",
            "Requirement already satisfied: h5py>=2.9.0 in /usr/local/lib/python3.11/dist-packages (from tensorflow==2.15.0) (3.13.0)\n",
            "Requirement already satisfied: libclang>=13.0.0 in /usr/local/lib/python3.11/dist-packages (from tensorflow==2.15.0) (18.1.1)\n",
            "Requirement already satisfied: ml-dtypes~=0.2.0 in /usr/local/lib/python3.11/dist-packages (from tensorflow==2.15.0) (0.2.0)\n",
            "Requirement already satisfied: numpy<2.0.0,>=1.23.5 in /usr/local/lib/python3.11/dist-packages (from tensorflow==2.15.0) (1.26.4)\n",
            "Requirement already satisfied: opt-einsum>=2.3.2 in /usr/local/lib/python3.11/dist-packages (from tensorflow==2.15.0) (3.4.0)\n",
            "Requirement already satisfied: packaging in /usr/local/lib/python3.11/dist-packages (from tensorflow==2.15.0) (25.0)\n",
            "Requirement already satisfied: protobuf!=4.21.0,!=4.21.1,!=4.21.2,!=4.21.3,!=4.21.4,!=4.21.5,<5.0.0dev,>=3.20.3 in /usr/local/lib/python3.11/dist-packages (from tensorflow==2.15.0) (4.25.8)\n",
            "Requirement already satisfied: setuptools in /usr/local/lib/python3.11/dist-packages (from tensorflow==2.15.0) (80.9.0)\n",
            "Requirement already satisfied: six>=1.12.0 in /usr/local/lib/python3.11/dist-packages (from tensorflow==2.15.0) (1.17.0)\n",
            "Requirement already satisfied: termcolor>=1.1.0 in /usr/local/lib/python3.11/dist-packages (from tensorflow==2.15.0) (3.1.0)\n",
            "Requirement already satisfied: typing-extensions>=3.6.6 in /usr/local/lib/python3.11/dist-packages (from tensorflow==2.15.0) (4.13.2)\n",
            "Requirement already satisfied: wrapt<1.15,>=1.11.0 in /usr/local/lib/python3.11/dist-packages (from tensorflow==2.15.0) (1.14.1)\n",
            "Requirement already satisfied: tensorflow-io-gcs-filesystem>=0.23.1 in /usr/local/lib/python3.11/dist-packages (from tensorflow==2.15.0) (0.37.1)\n",
            "Requirement already satisfied: grpcio<2.0,>=1.24.3 in /usr/local/lib/python3.11/dist-packages (from tensorflow==2.15.0) (1.71.0)\n",
            "Requirement already satisfied: tensorboard<2.16,>=2.15 in /usr/local/lib/python3.11/dist-packages (from tensorflow==2.15.0) (2.15.2)\n",
            "Requirement already satisfied: tensorflow-estimator<2.16,>=2.15.0 in /usr/local/lib/python3.11/dist-packages (from tensorflow==2.15.0) (2.15.0)\n",
            "Requirement already satisfied: tf-keras>=2.14.1 in /usr/local/lib/python3.11/dist-packages (from tensorflow-hub) (2.15.1)\n",
            "Requirement already satisfied: wheel<1.0,>=0.23.0 in /usr/local/lib/python3.11/dist-packages (from astunparse>=1.6.0->tensorflow==2.15.0) (0.45.1)\n",
            "Requirement already satisfied: google-auth<3,>=1.6.3 in /usr/local/lib/python3.11/dist-packages (from tensorboard<2.16,>=2.15->tensorflow==2.15.0) (2.40.2)\n",
            "Requirement already satisfied: google-auth-oauthlib<2,>=0.5 in /usr/local/lib/python3.11/dist-packages (from tensorboard<2.16,>=2.15->tensorflow==2.15.0) (1.2.2)\n",
            "Requirement already satisfied: markdown>=2.6.8 in /usr/local/lib/python3.11/dist-packages (from tensorboard<2.16,>=2.15->tensorflow==2.15.0) (3.8)\n",
            "Requirement already satisfied: requests<3,>=2.21.0 in /usr/local/lib/python3.11/dist-packages (from tensorboard<2.16,>=2.15->tensorflow==2.15.0) (2.32.3)\n",
            "Requirement already satisfied: tensorboard-data-server<0.8.0,>=0.7.0 in /usr/local/lib/python3.11/dist-packages (from tensorboard<2.16,>=2.15->tensorflow==2.15.0) (0.7.2)\n",
            "Requirement already satisfied: werkzeug>=1.0.1 in /usr/local/lib/python3.11/dist-packages (from tensorboard<2.16,>=2.15->tensorflow==2.15.0) (3.1.3)\n",
            "Requirement already satisfied: cachetools<6.0,>=2.0.0 in /usr/local/lib/python3.11/dist-packages (from google-auth<3,>=1.6.3->tensorboard<2.16,>=2.15->tensorflow==2.15.0) (5.5.2)\n",
            "Requirement already satisfied: pyasn1-modules>=0.2.1 in /usr/local/lib/python3.11/dist-packages (from google-auth<3,>=1.6.3->tensorboard<2.16,>=2.15->tensorflow==2.15.0) (0.4.2)\n",
            "Requirement already satisfied: rsa<5,>=3.1.4 in /usr/local/lib/python3.11/dist-packages (from google-auth<3,>=1.6.3->tensorboard<2.16,>=2.15->tensorflow==2.15.0) (4.9.1)\n",
            "Requirement already satisfied: requests-oauthlib>=0.7.0 in /usr/local/lib/python3.11/dist-packages (from google-auth-oauthlib<2,>=0.5->tensorboard<2.16,>=2.15->tensorflow==2.15.0) (2.0.0)\n",
            "Requirement already satisfied: charset-normalizer<4,>=2 in /usr/local/lib/python3.11/dist-packages (from requests<3,>=2.21.0->tensorboard<2.16,>=2.15->tensorflow==2.15.0) (3.4.2)\n",
            "Requirement already satisfied: idna<4,>=2.5 in /usr/local/lib/python3.11/dist-packages (from requests<3,>=2.21.0->tensorboard<2.16,>=2.15->tensorflow==2.15.0) (3.10)\n",
            "Requirement already satisfied: urllib3<3,>=1.21.1 in /usr/local/lib/python3.11/dist-packages (from requests<3,>=2.21.0->tensorboard<2.16,>=2.15->tensorflow==2.15.0) (2.4.0)\n",
            "Requirement already satisfied: certifi>=2017.4.17 in /usr/local/lib/python3.11/dist-packages (from requests<3,>=2.21.0->tensorboard<2.16,>=2.15->tensorflow==2.15.0) (2025.4.26)\n",
            "Requirement already satisfied: MarkupSafe>=2.1.1 in /usr/local/lib/python3.11/dist-packages (from werkzeug>=1.0.1->tensorboard<2.16,>=2.15->tensorflow==2.15.0) (3.0.2)\n",
            "Requirement already satisfied: pyasn1<0.7.0,>=0.6.1 in /usr/local/lib/python3.11/dist-packages (from pyasn1-modules>=0.2.1->google-auth<3,>=1.6.3->tensorboard<2.16,>=2.15->tensorflow==2.15.0) (0.6.1)\n",
            "Requirement already satisfied: oauthlib>=3.0.0 in /usr/local/lib/python3.11/dist-packages (from requests-oauthlib>=0.7.0->google-auth-oauthlib<2,>=0.5->tensorboard<2.16,>=2.15->tensorflow==2.15.0) (3.2.2)\n"
          ]
        }
      ]
    },
    {
      "cell_type": "code",
      "source": [
        "## Create data loaders (preparing the data)\n",
        "# Setup data inputs\n",
        "import tensorflow as tf\n",
        "from tensorflow.keras.preprocessing.image import ImageDataGenerator\n",
        "\n",
        "IMAGE_SHAPE = (224, 224)\n",
        "BATCH_SIZE = 32\n",
        "\n",
        "train_dir = \"10_food_classes_10_percent/train/\"\n",
        "test_dir = \"10_food_classes_10_percent/test/\"\n",
        "\n",
        "train_datagen = ImageDataGenerator(rescale=1/255.)\n",
        "test_datagen = ImageDataGenerator(rescale=1/255.)\n",
        "\n",
        "print(\"Training images:\")\n",
        "train_data_10_percent = train_datagen.flow_from_directory(train_dir,\n",
        "                                                          target_size = IMAGE_SHAPE,\n",
        "                                                          batch_size = BATCH_SIZE,\n",
        "                                                          class_mode = \"categorical\")\n",
        "\n",
        "\n",
        "test_data= train_datagen.flow_from_directory(test_dir,\n",
        "                                                          target_size = IMAGE_SHAPE,\n",
        "                                                          batch_size = BATCH_SIZE,\n",
        "                                                          class_mode = \"categorical\")\n",
        "\n"
      ],
      "metadata": {
        "colab": {
          "base_uri": "https://localhost:8080/"
        },
        "id": "SXCQ2h_UMozT",
        "outputId": "7b54e1a5-ec48-4c0f-9500-df751aa82030"
      },
      "execution_count": 15,
      "outputs": [
        {
          "output_type": "stream",
          "name": "stdout",
          "text": [
            "Training images:\n",
            "Found 750 images belonging to 10 classes.\n",
            "Found 2500 images belonging to 10 classes.\n"
          ]
        }
      ]
    },
    {
      "cell_type": "markdown",
      "source": [
        "# Setting up callbacks (things to run whilst our model trains)"
      ],
      "metadata": {
        "id": "CHySKe90Nnkf"
      }
    },
    {
      "cell_type": "code",
      "source": [
        "# Create tensorboard callback (functionized because need to create a new one for each model)\n",
        "\n",
        "import datetime\n",
        "def create_tensorboard_callback(dir_name, experiment_name):\n",
        "    log_dir = dir_name + \"/\" + experiment_name + \"/\" + datetime.datetime.now().strftime(\"%Y%m%d-%H%M%S\")\n",
        "    tensorboard_callback = tf.keras.callbacks.TensorBoard(\n",
        "        log_dir = log_dir\n",
        "    )\n",
        "    print(f\"Saving TensorBoard log file to : {log_dir}\")\n",
        "    return tensorboard_callback"
      ],
      "metadata": {
        "id": "wXK_AZZuNt03"
      },
      "execution_count": 18,
      "outputs": []
    },
    {
      "cell_type": "markdown",
      "source": [
        "## Creating model using TensofFlow Hub\n",
        "\n",
        "TesorFlow Hub에서 사용할 2 모델:\n",
        "1. ResNetV2 - a state of the art computer vision model architecture from 2016\n",
        "2. EfficientNet - a state of the art computer vision architecture from 2019"
      ],
      "metadata": {
        "id": "RPXow6NMQCcR"
      }
    },
    {
      "cell_type": "code",
      "source": [
        "import tensorflow as tf\n",
        "import tensorflow_hub as hub\n",
        "from tensorflow.keras import layers"
      ],
      "metadata": {
        "id": "JA5W8mHtQso3"
      },
      "execution_count": 20,
      "outputs": []
    },
    {
      "cell_type": "code",
      "source": [
        "# Resnet 50 V2 feature vector\n",
        "resnet_url  = \"https://tfhub.dev/google/imagenet/resnet_v2_50/feature_vector/4\"\n",
        "\n",
        "# Original: EffiocientNetB) feature vector (version 1)\n",
        "efficientnet_url = \"https://tfhub.dev/tensorflow/efficientnet/b0/feature-vector/1\"\n",
        "\n",
        "# # New: EfficientNetB0 feature vector (version 2)\n",
        "# efficientnet_url = \"https://tfhub.dev/google/imagenet/efficientnet_v2_imagenet1k_b0/feature_vector/2\""
      ],
      "metadata": {
        "id": "6-N9VZkdcMrQ"
      },
      "execution_count": 21,
      "outputs": []
    },
    {
      "cell_type": "code",
      "source": [
        "\n",
        "def create_model(model_url, num_classes=10):\n",
        "\n",
        "    # Download the pretrained model and save it as a Keras layer\n",
        "    feature_extractor_layer = hub.KerasLayer(model_url,\n",
        "                                            trainable=False, # freeze the underlying patterns\n",
        "                                            name='feature_extraction_layer',\n",
        "                                            input_shape=IMAGE_SHAPE+(3,)) # define the input image shape\n",
        "\n",
        "    # Create our own model\n",
        "    model = tf.keras.Sequential([\n",
        "        feature_extractor_layer, # use the feature extraction layer as the base\n",
        "        layers.Dense(num_classes, activation='softmax', name='output_layer') # create our own output layer\n",
        "    ])\n",
        "\n",
        "    return model"
      ],
      "metadata": {
        "id": "5uZzZ840edTb"
      },
      "execution_count": 22,
      "outputs": []
    },
    {
      "cell_type": "code",
      "source": [
        "# Create model\n",
        "resnet_model = create_model(resnet_url,\n",
        "                            num_classes=train_data_10_percent.num_classes)\n",
        "\n",
        "# Compile\n",
        "resnet_model.compile(loss='categorical_crossentropy',\n",
        "                     optimizer=tf.keras.optimizers.Adam(),\n",
        "                     metrics=['accuracy'])"
      ],
      "metadata": {
        "id": "KTeKpXP0fRMa"
      },
      "execution_count": 23,
      "outputs": []
    },
    {
      "cell_type": "code",
      "source": [
        "# Fit the model\n",
        "resnet_history = resnet_model.fit(train_data_10_percent,\n",
        "                                  epochs = 5,\n",
        "                                  steps_per_epoch = len(train_data_10_percent),\n",
        "                                  validation_data = test_data,\n",
        "                                  validation_steps=len(test_data),\n",
        "                                  #Add tensofboard callback to model( callbacks parameter takes a list)\n",
        "                                  callbacks = [create_tensorboard_callback(dir_name = \"tensorflow_hub\", # save experiment logs here\n",
        "                                                                           experiment_name = \"resnet50V2\")] # name of log files\n",
        "                                  )"
      ],
      "metadata": {
        "id": "fj-8KGkMgFRH",
        "colab": {
          "base_uri": "https://localhost:8080/"
        },
        "outputId": "8fccccb5-d125-4178-b73a-1ac323ffba91"
      },
      "execution_count": 25,
      "outputs": [
        {
          "output_type": "stream",
          "name": "stdout",
          "text": [
            "Saving TensorBoard log file to : tensorflow_hub/resnet50V2/20250531-122446\n",
            "Epoch 1/5\n",
            "24/24 [==============================] - 407s 17s/step - loss: 2.1117 - accuracy: 0.3133 - val_loss: 1.3344 - val_accuracy: 0.5484\n",
            "Epoch 2/5\n",
            "24/24 [==============================] - 404s 17s/step - loss: 0.9625 - accuracy: 0.7240 - val_loss: 0.9338 - val_accuracy: 0.7116\n",
            "Epoch 3/5\n",
            "24/24 [==============================] - 400s 17s/step - loss: 0.6543 - accuracy: 0.8227 - val_loss: 0.7772 - val_accuracy: 0.7516\n",
            "Epoch 4/5\n",
            "24/24 [==============================] - 399s 17s/step - loss: 0.4937 - accuracy: 0.8800 - val_loss: 0.7231 - val_accuracy: 0.7680\n",
            "Epoch 5/5\n",
            "24/24 [==============================] - 414s 18s/step - loss: 0.3917 - accuracy: 0.9080 - val_loss: 0.7034 - val_accuracy: 0.7672\n"
          ]
        }
      ]
    },
    {
      "cell_type": "code",
      "source": [
        "import matplotlib.pyplot as plt\n",
        "\n",
        "# Plot the validation and tranining data separately\n",
        "def plot_loss_curves(history):\n",
        "    loss = history.history['loss']\n",
        "    val_loss = history.history['val_loss']\n",
        "\n",
        "    accuracy = history.history['accuracy']\n",
        "    val_accuracy = history.history['val_accuracy']\n",
        "\n",
        "    epochs = range(len(history.history['loss']))\n",
        "\n",
        "    # Plot loss\n",
        "    plt.plot(epochs, loss, label='training_loss')\n",
        "    plt.plot(epochs, val_loss, label='val_loss')\n",
        "    plt.title('Loss')\n",
        "    plt.xlabel('Epochs')\n",
        "    plt.legend()\n",
        "\n",
        "    # Plot accuracy\n",
        "    plt.figure()\n",
        "    plt.plot(epochs, accuracy, label=\"training_accuracy\")\n",
        "    plt.plot(epochs, val_accuracy, label='val_accuracy')\n",
        "    plt.title('Accuracy')\n",
        "    plt.xlabel('Epochs')\n",
        "    plt.legend();\n"
      ],
      "metadata": {
        "id": "UJ_c6tXAioGG"
      },
      "execution_count": 26,
      "outputs": []
    },
    {
      "cell_type": "code",
      "source": [
        "plot_loss_curves(resnet_history)"
      ],
      "metadata": {
        "id": "YYkL_3bcjuvI",
        "colab": {
          "base_uri": "https://localhost:8080/",
          "height": 927
        },
        "outputId": "d030ff54-1289-44f8-cbff-6711092e3549"
      },
      "execution_count": 27,
      "outputs": [
        {
          "output_type": "display_data",
          "data": {
            "text/plain": [
              "<Figure size 640x480 with 1 Axes>"
            ],
            "image/png": "[encoded data removed]"
          },
          "metadata": {}
        },
        {
          "output_type": "display_data",
          "data": {
            "text/plain": [
              "<Figure size 640x480 with 1 Axes>"
            ],
            "image/png": "[encoded data removed]"
          },
          "metadata": {}
        }
      ]
    },
    {
      "cell_type": "code",
      "source": [
        "# Resnet summary\n",
        "resnet_model.summary()"
      ],
      "metadata": {
        "id": "ne2fF_Zgj25C",
        "colab": {
          "base_uri": "https://localhost:8080/"
        },
        "outputId": "fd6b5432-7f07-4367-a1e9-2ccdf96ec365"
      },
      "execution_count": 28,
      "outputs": [
        {
          "output_type": "stream",
          "name": "stdout",
          "text": [
            "Model: \"sequential_1\"\n",
            "_________________________________________________________________\n",
            " Layer (type)                Output Shape              Param #   \n",
            "=================================================================\n",
            " feature_extraction_layer (  (None, 2048)              23564800  \n",
            " KerasLayer)                                                     \n",
            "                                                                 \n",
            " output_layer (Dense)        (None, 10)                20490     \n",
            "                                                                 \n",
            "=================================================================\n",
            "Total params: 23585290 (89.97 MB)\n",
            "Trainable params: 20490 (80.04 KB)\n",
            "Non-trainable params: 23564800 (89.89 MB)\n",
            "_________________________________________________________________\n"
          ]
        }
      ]
    },
    {
      "cell_type": "code",
      "source": [
        "# Create model\n",
        "efficientnet_model = create_model(model_url=efficientnet_url, # use EfficientNetB0 TensorFlow Hub URL\n",
        "                                  num_classes = train_data_10_percent.num_classes)\n",
        "\n",
        "# Complie EfficientNet model\n",
        "efficientnet_model.compile(loss='categorical_crossentropy',\n",
        "                           optimizer = tf.keras.optimizers.Adam(),\n",
        "                           metrics=['accuracy'])\n",
        "\n",
        "# Fit EfficientNet model\n",
        "efficientnet_history = efficientnet_model.fit(train_data_10_percent, # only use 10 % of training data\n",
        "                                             epochs=5,\n",
        "                                             steps_per_epoch = len(train_data_10_percent),\n",
        "                                             validation_data = test_data,\n",
        "                                             validation_steps = len(test_data),\n",
        "                                             callbacks = [create_tensorboard_callback(dir_name='tensorflow_hub',\n",
        "                                                                                      #Track logs under different experiment name\n",
        "                                                                                      experiment_name = 'efficientnetB0')])"
      ],
      "metadata": {
        "collapsed": true,
        "id": "EgeHOClVj7M3",
        "colab": {
          "base_uri": "https://localhost:8080/"
        },
        "outputId": "61fcc671-6491-4c9a-b9b9-ce34f2b439d0"
      },
      "execution_count": 30,
      "outputs": [
        {
          "output_type": "stream",
          "name": "stdout",
          "text": [
            "Saving TensorBoard log file to : tensorflow_hub/efficientnetB0/20250531-130044\n",
            "Epoch 1/5\n",
            "24/24 [==============================] - 191s 8s/step - loss: 1.9513 - accuracy: 0.3547 - val_loss: 1.3588 - val_accuracy: 0.6940\n",
            "Epoch 2/5\n",
            "24/24 [==============================] - 174s 7s/step - loss: 1.1015 - accuracy: 0.7680 - val_loss: 0.8919 - val_accuracy: 0.8092\n",
            "Epoch 3/5\n",
            "24/24 [==============================] - 168s 7s/step - loss: 0.7646 - accuracy: 0.8453 - val_loss: 0.7096 - val_accuracy: 0.8452\n",
            "Epoch 4/5\n",
            "24/24 [==============================] - 170s 7s/step - loss: 0.6117 - accuracy: 0.8707 - val_loss: 0.6188 - val_accuracy: 0.8508\n",
            "Epoch 5/5\n",
            "24/24 [==============================] - 172s 7s/step - loss: 0.5178 - accuracy: 0.8907 - val_loss: 0.5620 - val_accuracy: 0.8580\n"
          ]
        }
      ]
    },
    {
      "cell_type": "code",
      "source": [
        "plot_loss_curves(efficientnet_history)"
      ],
      "metadata": {
        "id": "ipkxhnrSkZyE",
        "colab": {
          "base_uri": "https://localhost:8080/",
          "height": 927
        },
        "outputId": "d6033607-a958-49f6-9fe2-b1c3c0114035"
      },
      "execution_count": 31,
      "outputs": [
        {
          "output_type": "display_data",
          "data": {
            "text/plain": [
              "<Figure size 640x480 with 1 Axes>"
            ],
            "image/png": "[encoded data removed]"
          },
          "metadata": {}
        },
        {
          "output_type": "display_data",
          "data": {
            "text/plain": [
              "<Figure size 640x480 with 1 Axes>"
            ],
            "image/png": "[encoded data removed]"
          },
          "metadata": {}
        }
      ]
    },
    {
      "cell_type": "code",
      "source": [
        "efficientnet_model.summary()"
      ],
      "metadata": {
        "id": "Xmb5q3hNlqJt",
        "colab": {
          "base_uri": "https://localhost:8080/"
        },
        "outputId": "cfa834ab-46ec-48b0-a59d-d0930d8ac4fc"
      },
      "execution_count": 32,
      "outputs": [
        {
          "output_type": "stream",
          "name": "stdout",
          "text": [
            "Model: \"sequential_3\"\n",
            "_________________________________________________________________\n",
            " Layer (type)                Output Shape              Param #   \n",
            "=================================================================\n",
            " feature_extraction_layer (  (None, 1280)              4049564   \n",
            " KerasLayer)                                                     \n",
            "                                                                 \n",
            " output_layer (Dense)        (None, 10)                12810     \n",
            "                                                                 \n",
            "=================================================================\n",
            "Total params: 4062374 (15.50 MB)\n",
            "Trainable params: 12810 (50.04 KB)\n",
            "Non-trainable params: 4049564 (15.45 MB)\n",
            "_________________________________________________________________\n"
          ]
        }
      ]
    },
    {
      "cell_type": "markdown",
      "source": [
        "## Uploading experiments to TensorBoard\n",
        "\n",
        "‼️‼️‼️‼️‼️‼️‼️‼️‼️\n",
        "- --logdir is the target upload directory\n",
        "- --name is the name of the experiment\n",
        "- --description is a brief description of the experiment\n",
        "- --one_shot exits the TensorBoard uploader once uploading is finished"
      ],
      "metadata": {
        "id": "K5RQAVtlmCM2"
      }
    },
    {
      "cell_type": "code",
      "source": [
        "# Upload TensorBoard dev recods\n",
        "!tensorboard dev upload --logdir ./tensorflow_hub/\\\n",
        "    --name \"EfficientNetB0 vs. ResNet50V2\" \\\n",
        "    --description \"Comparing two different TF Hub feature extraction models architectrues ustin 10% of training images\" \\\n",
        "    --one_shot"
      ],
      "metadata": {
        "id": "oVm7ROkemDb7",
        "colab": {
          "base_uri": "https://localhost:8080/"
        },
        "outputId": "1f6f2440-f35a-44d7-e673-f754b42f0269"
      },
      "execution_count": 33,
      "outputs": [
        {
          "output_type": "stream",
          "name": "stdout",
          "text": [
            "/usr/local/lib/python3.11/dist-packages/tensorboard/default.py:30: UserWarning: pkg_resources is deprecated as an API. See https://setuptools.pypa.io/en/latest/pkg_resources.html. The pkg_resources package is slated for removal as early as 2025-11-30. Refrain from using this package or pin to Setuptools<81.\n",
            "  import pkg_resources\n",
            "2025-05-31 13:24:45.675203: E external/local_xla/xla/stream_executor/cuda/cuda_dnn.cc:9261] Unable to register cuDNN factory: Attempting to register factory for plugin cuDNN when one has already been registered\n",
            "2025-05-31 13:24:45.675254: E external/local_xla/xla/stream_executor/cuda/cuda_fft.cc:607] Unable to register cuFFT factory: Attempting to register factory for plugin cuFFT when one has already been registered\n",
            "2025-05-31 13:24:45.677016: E external/local_xla/xla/stream_executor/cuda/cuda_blas.cc:1515] Unable to register cuBLAS factory: Attempting to register factory for plugin cuBLAS when one has already been registered\n",
            "2025-05-31 13:24:46.760713: W tensorflow/compiler/tf2tensorrt/utils/py_utils.cc:38] TF-TRT Warning: Could not find TensorRT\n",
            "2025-05-31 13:24:48.714574: W tensorflow/core/common_runtime/gpu/gpu_device.cc:2256] Cannot dlopen some GPU libraries. Please make sure the missing libraries mentioned above are installed properly if you would like to use GPU. Follow the guide at https://www.tensorflow.org/install/gpu for how to download and setup the required libraries for your platform.\n",
            "Skipping registering GPU devices...\n",
            "****************************************************************\n",
            "****************************************************************\n",
            "****************************************************************\n",
            "\n",
            "Uploading TensorBoard logs to https://tensorboard.dev/ is no longer\n",
            "supported.\n",
            "\n",
            "TensorBoard.dev is shutting down.\n",
            "\n",
            "Please export your experiments by Dec 31, 2023.\n",
            "\n",
            "See the FAQ at https://tensorboard.dev.\n",
            "\n",
            "****************************************************************\n",
            "****************************************************************\n",
            "****************************************************************\n"
          ]
        }
      ]
    },
    {
      "cell_type": "code",
      "source": [
        "##  위에 보면 더 이상 tensorboard의 기능을 지원하지 않아 아래 코드는 사용하지 않았다."
      ],
      "metadata": {
        "id": "JQ5YmnR8hJqN"
      },
      "execution_count": null,
      "outputs": []
    },
    {
      "cell_type": "markdown",
      "source": [
        "## Listing esperiments you've saved to TensorBoard"
      ],
      "metadata": {
        "id": "xxqYwD4jm_wL"
      }
    },
    {
      "cell_type": "code",
      "source": [
        "# Check out experiments\n",
        "# !tensorboard dev list # uncomment to see"
      ],
      "metadata": {
        "id": "MYTuYULdnI0g"
      },
      "execution_count": null,
      "outputs": []
    },
    {
      "cell_type": "markdown",
      "source": [
        "## Deleting experiments form TensorBoard"
      ],
      "metadata": {
        "id": "7M1j4OTSnPMO"
      }
    },
    {
      "cell_type": "code",
      "source": [
        "# Delete an experiment\n",
        "!tensorboard dev delete --experiment_id"
      ],
      "metadata": {
        "id": "DptW8R7WnVY4"
      },
      "execution_count": null,
      "outputs": []
    },
    {
      "cell_type": "code",
      "source": [
        "# Check to see if experiments still exist\n",
        "# !tensorboard dev list # uncomment to see"
      ],
      "metadata": {
        "id": "eoVODDK2ncF5"
      },
      "execution_count": null,
      "outputs": []
    }
  ]
}